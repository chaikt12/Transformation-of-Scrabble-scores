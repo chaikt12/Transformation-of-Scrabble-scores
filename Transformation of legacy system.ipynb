{
 "cells": [
  {
   "cell_type": "code",
   "execution_count": 1,
   "metadata": {},
   "outputs": [],
   "source": [
    "legacy_data = {\n",
    "            1: [\"A\", \"E\", \"I\", \"O\", \"U\", \"L\", \"N\", \"R\", \"S\", \"T\"],\n",
    "            2: [\"D\", \"G\"],\n",
    "            3: [\"B\", \"C\", \"M\", \"P\"],\n",
    "            4: [\"F\", \"H\", \"V\", \"W\", \"Y\"],\n",
    "            5: [\"K\"],\n",
    "            8: [\"J\", \"X\"],\n",
    "            10: [\"Q\", \"Z\"],\n",
    "        }"
   ]
  },
  {
   "cell_type": "code",
   "execution_count": 73,
   "metadata": {},
   "outputs": [
    {
     "data": {
      "text/plain": [
       "dict_items"
      ]
     },
     "execution_count": 73,
     "metadata": {},
     "output_type": "execute_result"
    }
   ],
   "source": [
    "type((legacy_data).items())"
   ]
  },
  {
   "cell_type": "code",
   "execution_count": 5,
   "metadata": {},
   "outputs": [],
   "source": [
    "dicts={}\n",
    "for key,value in legacy_data.items():\n",
    "    for val in value:\n",
    "        dicts[val.lower()]=key"
   ]
  },
  {
   "cell_type": "code",
   "execution_count": 7,
   "metadata": {},
   "outputs": [],
   "source": [
    "def swap_key(input_v):\n",
    "    data={}\n",
    "    for key,value in data.items():\n",
    "        for val in value:\n",
    "            dicts[val.lower()]=key\n",
    "            \n",
    "    #return OrderedDict(sorted(dicts.items()))\n",
    " \n",
    "    return dicts"
   ]
  },
  {
   "cell_type": "code",
   "execution_count": 8,
   "metadata": {},
   "outputs": [
    {
     "data": {
      "text/plain": [
       "{'a': 1,\n",
       " 'e': 1,\n",
       " 'i': 1,\n",
       " 'o': 1,\n",
       " 'u': 1,\n",
       " 'l': 1,\n",
       " 'n': 1,\n",
       " 'r': 1,\n",
       " 's': 1,\n",
       " 't': 1,\n",
       " 'd': 2,\n",
       " 'g': 2,\n",
       " 'b': 3,\n",
       " 'c': 3,\n",
       " 'm': 3,\n",
       " 'p': 3,\n",
       " 'f': 4,\n",
       " 'h': 4,\n",
       " 'v': 4,\n",
       " 'w': 4,\n",
       " 'y': 4,\n",
       " 'k': 5,\n",
       " 'j': 8,\n",
       " 'x': 8,\n",
       " 'q': 10,\n",
       " 'z': 10}"
      ]
     },
     "execution_count": 8,
     "metadata": {},
     "output_type": "execute_result"
    }
   ],
   "source": [
    "(swap_key(legacy_data))"
   ]
  }
 ],
 "metadata": {
  "kernelspec": {
   "display_name": "Python 3",
   "language": "python",
   "name": "python3"
  },
  "language_info": {
   "codemirror_mode": {
    "name": "ipython",
    "version": 3
   },
   "file_extension": ".py",
   "mimetype": "text/x-python",
   "name": "python",
   "nbconvert_exporter": "python",
   "pygments_lexer": "ipython3",
   "version": "3.7.3"
  }
 },
 "nbformat": 4,
 "nbformat_minor": 2
}
